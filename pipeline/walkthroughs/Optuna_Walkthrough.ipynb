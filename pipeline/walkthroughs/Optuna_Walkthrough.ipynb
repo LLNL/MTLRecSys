{
 "cells": [
  {
   "cell_type": "markdown",
   "metadata": {},
   "source": [
    "## Optuna Example Hyperparameter Optimization KNN, SVD, NNMF"
   ]
  },
  {
   "cell_type": "markdown",
   "metadata": {},
   "source": [
    "In order for the code below to work for a different method/model, the model should have member functions like this:\n",
    "\n",
    "    def get_hyper_params(self):\n",
    "        hparams = {'num_factors': {'type': 'integer', 'values': [2, 10]},\n",
    "                   'rho_1': {'type': 'loguniform', 'values': [1e-3, 100]},\n",
    "                   'rho_2': {'type': 'loguniform', 'values': [1e-3, 100]}}\n",
    "        return hparams\n",
    "\n",
    "    def set_hyper_params(self, **kwargs):\n",
    "        self.num_factors = kwargs['num_factors']\n",
    "        self.rho1 = kwargs['rho_1']\n",
    "        self.rho2 = kwargs['rho_2']"
   ]
  },
  {
   "cell_type": "code",
   "execution_count": 2,
   "metadata": {
    "ExecuteTime": {
     "end_time": "2020-06-29T19:49:11.492466Z",
     "start_time": "2020-06-29T19:49:11.484317Z"
    }
   },
   "outputs": [],
   "source": [
    "import os, sys\n",
    "sys.path.append('../')\n",
    "import hp_optimization as hopt\n",
    "from optuna.visualization import plot_optimization_history, \\\n",
    "                                 plot_intermediate_values, \\\n",
    "                                 plot_contour\n",
    "\n",
    "from design import ModelTraining\n",
    "from methods.matrix_factorization.MF_STL import MF_STL\n",
    "from methods.matrix_factorization.MF import SVD_MF, NonNegative_MF\n",
    "from methods.knn.KNN import KNN_Normalized\n",
    "from shutil import copyfile\n",
    "from UTILS.utils import datasetParams2str\n",
    "from datasets import SyntheticData as SD\n",
    "\n",
    "outdir = '../outputs/experiment_004x' # make sure that it lines up with the experiment's filename\n",
    "if not os.path.exists(outdir):\n",
    "    os.makedirs(outdir)"
   ]
  },
  {
   "cell_type": "code",
   "execution_count": 3,
   "metadata": {},
   "outputs": [],
   "source": [
    "dataset = SD.SyntheticDataCreator(num_tasks=3,cellsPerTask=400, drugsPerTask=10, function=\"cosine\",\n",
    "             normalize=False, noise=1, graph=False, test_split=0.3)\n",
    "dataset.prepare_data()"
   ]
  },
  {
   "cell_type": "code",
   "execution_count": 6,
   "metadata": {
    "scrolled": true
   },
   "outputs": [
    {
     "name": "stderr",
     "output_type": "stream",
     "text": [
      "[I 2020-07-08 00:19:31,265] Using an existing study with name 'KNN_Normalized_CCLE_GDSC_CTRP_NCI60_common_False_unseenCells_False_normalize_True_test_split_0.2_cat_point_10_drug_transform_type_pca_num_comp_10_cell_transform_type_pca_num_comp_10' instead of creating a new one.\n",
      "[I 2020-07-08 00:23:17,687] Finished trial#46 with value: 0.7163296775771079 with parameters: {'k': 4}. Best is trial#40 with value: 0.7130136518528005.\n",
      "[I 2020-07-08 00:27:04,747] Finished trial#47 with value: 0.7190425842743811 with parameters: {'k': 7}. Best is trial#40 with value: 0.7130136518528005.\n",
      "[I 2020-07-08 00:30:52,346] Finished trial#48 with value: 0.714697045806538 with parameters: {'k': 9}. Best is trial#40 with value: 0.7130136518528005.\n",
      "[I 2020-07-08 00:34:40,279] Finished trial#49 with value: 0.7183926645634353 with parameters: {'k': 6}. Best is trial#40 with value: 0.7130136518528005.\n",
      "[I 2020-07-08 00:38:21,009] Finished trial#50 with value: 0.7156357278800352 with parameters: {'k': 5}. Best is trial#40 with value: 0.7130136518528005.\n"
     ]
    },
    {
     "name": "stdout",
     "output_type": "stream",
     "text": [
      "FrozenTrial(number=40, value=0.7130136518528005, datetime_start=datetime.datetime(2020, 7, 7, 23, 57, 20, 863843), datetime_complete=datetime.datetime(2020, 7, 8, 0, 1, 21, 228128), params={'k': 6}, distributions={'k': IntUniformDistribution(high=13, low=2, step=1)}, user_attrs={}, system_attrs={}, intermediate_values={}, trial_id=41, state=TrialState.COMPLETE)\n"
     ]
    },
    {
     "name": "stderr",
     "output_type": "stream",
     "text": [
      "[W 2020-07-08 00:38:21,944] You need to set up the pruning feature to utilize `plot_intermediate_values()`\n"
     ]
    },
    {
     "name": "stdout",
     "output_type": "stream",
     "text": [
      "best params for KNN_Normalized :  {'k': 6}\n"
     ]
    },
    {
     "name": "stderr",
     "output_type": "stream",
     "text": [
      "[I 2020-07-08 00:38:22,653] Using an existing study with name 'SVD_MF_CCLE_GDSC_CTRP_NCI60_common_False_unseenCells_False_normalize_True_test_split_0.2_cat_point_10_drug_transform_type_pca_num_comp_10_cell_transform_type_pca_num_comp_10' instead of creating a new one.\n",
      "[I 2020-07-08 00:43:54,707] Finished trial#40 with value: 0.7210341236900055 with parameters: {'n_factors': 119, 'n_epochs': 145}. Best is trial#34 with value: 0.7182385283967304.\n",
      "[I 2020-07-08 00:49:27,288] Finished trial#41 with value: 0.717449173380104 with parameters: {'n_factors': 50, 'n_epochs': 77}. Best is trial#41 with value: 0.717449173380104.\n",
      "[I 2020-07-08 00:54:59,584] Finished trial#42 with value: 0.7217463140413867 with parameters: {'n_factors': 49, 'n_epochs': 79}. Best is trial#41 with value: 0.717449173380104.\n",
      "[I 2020-07-08 01:00:35,120] Finished trial#43 with value: 0.7206237196455089 with parameters: {'n_factors': 53, 'n_epochs': 48}. Best is trial#41 with value: 0.717449173380104.\n",
      "[I 2020-07-08 01:06:30,556] Finished trial#44 with value: 0.7195319978091118 with parameters: {'n_factors': 41, 'n_epochs': 112}. Best is trial#41 with value: 0.717449173380104.\n",
      "[I 2020-07-08 01:12:23,832] Finished trial#45 with value: 0.72080259183597 with parameters: {'n_factors': 78, 'n_epochs': 92}. Best is trial#41 with value: 0.717449173380104.\n",
      "[I 2020-07-08 01:18:05,450] Finished trial#46 with value: 0.7206705211650194 with parameters: {'n_factors': 61, 'n_epochs': 118}. Best is trial#41 with value: 0.717449173380104.\n",
      "[I 2020-07-08 01:23:35,817] Finished trial#47 with value: 0.7212838365112539 with parameters: {'n_factors': 34, 'n_epochs': 73}. Best is trial#41 with value: 0.717449173380104.\n",
      "[I 2020-07-08 01:29:05,920] Finished trial#48 with value: 0.7209663855541162 with parameters: {'n_factors': 48, 'n_epochs': 83}. Best is trial#41 with value: 0.717449173380104.\n",
      "[I 2020-07-08 01:34:35,236] Finished trial#49 with value: 0.7237363293228225 with parameters: {'n_factors': 23, 'n_epochs': 56}. Best is trial#41 with value: 0.717449173380104.\n",
      "[I 2020-07-08 01:40:10,626] Finished trial#50 with value: 0.7191773673563668 with parameters: {'n_factors': 101, 'n_epochs': 130}. Best is trial#41 with value: 0.717449173380104.\n",
      "[I 2020-07-08 01:45:42,216] Finished trial#51 with value: 0.7206007733902343 with parameters: {'n_factors': 145, 'n_epochs': 122}. Best is trial#41 with value: 0.717449173380104.\n",
      "[I 2020-07-08 01:51:19,491] Finished trial#52 with value: 0.7204484534256096 with parameters: {'n_factors': 108, 'n_epochs': 129}. Best is trial#41 with value: 0.717449173380104.\n",
      "[I 2020-07-08 01:56:54,552] Finished trial#53 with value: 0.7232131455548395 with parameters: {'n_factors': 72, 'n_epochs': 144}. Best is trial#41 with value: 0.717449173380104.\n",
      "[I 2020-07-08 02:02:28,296] Finished trial#54 with value: 0.719532425147488 with parameters: {'n_factors': 103, 'n_epochs': 107}. Best is trial#41 with value: 0.717449173380104.\n",
      "[I 2020-07-08 02:08:01,073] Finished trial#55 with value: 0.7220906548341376 with parameters: {'n_factors': 82, 'n_epochs': 133}. Best is trial#41 with value: 0.717449173380104.\n",
      "[I 2020-07-08 02:13:23,955] Finished trial#56 with value: 0.7172941570050592 with parameters: {'n_factors': 128, 'n_epochs': 141}. Best is trial#56 with value: 0.7172941570050592.\n",
      "[I 2020-07-08 02:18:24,336] Finished trial#57 with value: 0.7211242938221467 with parameters: {'n_factors': 133, 'n_epochs': 142}. Best is trial#56 with value: 0.7172941570050592.\n",
      "[I 2020-07-08 02:23:22,277] Finished trial#58 with value: 0.7204053737149423 with parameters: {'n_factors': 73, 'n_epochs': 123}. Best is trial#56 with value: 0.7172941570050592.\n",
      "[I 2020-07-08 02:28:21,858] Finished trial#59 with value: 0.7210804122860631 with parameters: {'n_factors': 46, 'n_epochs': 150}. Best is trial#56 with value: 0.7172941570050592.\n",
      "[I 2020-07-08 02:33:18,896] Finished trial#60 with value: 0.717164392154884 with parameters: {'n_factors': 56, 'n_epochs': 111}. Best is trial#60 with value: 0.717164392154884.\n",
      "[I 2020-07-08 02:38:15,532] Finished trial#61 with value: 0.72207601776515 with parameters: {'n_factors': 56, 'n_epochs': 32}. Best is trial#60 with value: 0.717164392154884.\n",
      "[I 2020-07-08 02:43:13,152] Finished trial#62 with value: 0.7196056287582099 with parameters: {'n_factors': 63, 'n_epochs': 103}. Best is trial#60 with value: 0.717164392154884.\n",
      "[I 2020-07-08 02:48:14,807] Finished trial#63 with value: 0.7189429666618568 with parameters: {'n_factors': 68, 'n_epochs': 114}. Best is trial#60 with value: 0.717164392154884.\n",
      "[I 2020-07-08 02:53:19,174] Finished trial#64 with value: 0.7234464509679396 with parameters: {'n_factors': 71, 'n_epochs': 112}. Best is trial#60 with value: 0.717164392154884.\n",
      "[I 2020-07-08 02:58:19,900] Finished trial#65 with value: 0.720020718139297 with parameters: {'n_factors': 59, 'n_epochs': 139}. Best is trial#60 with value: 0.717164392154884.\n",
      "[I 2020-07-08 03:03:21,563] Finished trial#66 with value: 0.7192322396069483 with parameters: {'n_factors': 54, 'n_epochs': 124}. Best is trial#60 with value: 0.717164392154884.\n",
      "[I 2020-07-08 03:08:25,623] Finished trial#67 with value: 0.7230409373292892 with parameters: {'n_factors': 89, 'n_epochs': 116}. Best is trial#60 with value: 0.717164392154884.\n",
      "[I 2020-07-08 03:13:26,194] Finished trial#68 with value: 0.7192963222287656 with parameters: {'n_factors': 66, 'n_epochs': 134}. Best is trial#60 with value: 0.717164392154884.\n",
      "[I 2020-07-08 03:18:27,805] Finished trial#69 with value: 0.7204869949406885 with parameters: {'n_factors': 42, 'n_epochs': 98}. Best is trial#60 with value: 0.717164392154884.\n",
      "[I 2020-07-08 03:23:29,756] Finished trial#70 with value: 0.7203121371017783 with parameters: {'n_factors': 82, 'n_epochs': 5}. Best is trial#60 with value: 0.717164392154884.\n",
      "[I 2020-07-08 03:28:29,401] Finished trial#71 with value: 0.7219707767840168 with parameters: {'n_factors': 70, 'n_epochs': 106}. Best is trial#60 with value: 0.717164392154884.\n",
      "[I 2020-07-08 03:33:32,742] Finished trial#72 with value: 0.721995666634726 with parameters: {'n_factors': 57, 'n_epochs': 108}. Best is trial#60 with value: 0.717164392154884.\n",
      "[I 2020-07-08 03:38:34,051] Finished trial#73 with value: 0.7186771131336019 with parameters: {'n_factors': 28, 'n_epochs': 118}. Best is trial#60 with value: 0.717164392154884.\n",
      "[I 2020-07-08 03:43:38,774] Finished trial#74 with value: 0.7211002127520345 with parameters: {'n_factors': 19, 'n_epochs': 120}. Best is trial#60 with value: 0.717164392154884.\n",
      "[I 2020-07-08 03:48:37,346] Finished trial#75 with value: 0.7192275839523526 with parameters: {'n_factors': 8, 'n_epochs': 116}. Best is trial#60 with value: 0.717164392154884.\n",
      "[I 2020-07-08 03:53:40,120] Finished trial#76 with value: 0.7221339100068461 with parameters: {'n_factors': 39, 'n_epochs': 125}. Best is trial#60 with value: 0.717164392154884.\n",
      "[I 2020-07-08 03:58:40,188] Finished trial#77 with value: 0.7214500947247746 with parameters: {'n_factors': 64, 'n_epochs': 114}. Best is trial#60 with value: 0.717164392154884.\n",
      "[I 2020-07-08 04:03:38,415] Finished trial#78 with value: 0.7184220089336785 with parameters: {'n_factors': 30, 'n_epochs': 102}. Best is trial#60 with value: 0.717164392154884.\n",
      "[I 2020-07-08 04:08:39,134] Finished trial#79 with value: 0.7209395639699132 with parameters: {'n_factors': 32, 'n_epochs': 104}. Best is trial#60 with value: 0.717164392154884.\n",
      "[I 2020-07-08 04:13:38,653] Finished trial#80 with value: 0.7194287010972653 with parameters: {'n_factors': 26, 'n_epochs': 110}. Best is trial#60 with value: 0.717164392154884.\n",
      "[I 2020-07-08 04:18:41,273] Finished trial#81 with value: 0.7186673377855005 with parameters: {'n_factors': 16, 'n_epochs': 140}. Best is trial#60 with value: 0.717164392154884.\n",
      "[I 2020-07-08 04:24:11,298] Finished trial#82 with value: 0.7231466580256873 with parameters: {'n_factors': 15, 'n_epochs': 150}. Best is trial#60 with value: 0.717164392154884.\n",
      "[I 2020-07-08 04:29:25,670] Finished trial#83 with value: 0.7213081947258771 with parameters: {'n_factors': 10, 'n_epochs': 138}. Best is trial#60 with value: 0.717164392154884.\n",
      "[I 2020-07-08 04:34:28,690] Finished trial#84 with value: 0.7213384163443852 with parameters: {'n_factors': 21, 'n_epochs': 90}. Best is trial#60 with value: 0.717164392154884.\n",
      "[I 2020-07-08 04:39:34,847] Finished trial#85 with value: 0.7188999649374589 with parameters: {'n_factors': 28, 'n_epochs': 121}. Best is trial#60 with value: 0.717164392154884.\n",
      "[I 2020-07-08 04:44:45,399] Finished trial#86 with value: 0.720355106990078 with parameters: {'n_factors': 15, 'n_epochs': 131}. Best is trial#60 with value: 0.717164392154884.\n",
      "[I 2020-07-08 04:49:49,541] Finished trial#87 with value: 0.7203114771374673 with parameters: {'n_factors': 52, 'n_epochs': 100}. Best is trial#60 with value: 0.717164392154884.\n",
      "[I 2020-07-08 04:54:52,912] Finished trial#88 with value: 0.7181199016128534 with parameters: {'n_factors': 35, 'n_epochs': 126}. Best is trial#60 with value: 0.717164392154884.\n",
      "[I 2020-07-08 04:59:51,167] Finished trial#89 with value: 0.7185826211389024 with parameters: {'n_factors': 26, 'n_epochs': 140}. Best is trial#60 with value: 0.717164392154884.\n"
     ]
    },
    {
     "name": "stdout",
     "output_type": "stream",
     "text": [
      "FrozenTrial(number=60, value=0.717164392154884, datetime_start=datetime.datetime(2020, 7, 8, 2, 28, 21, 906913), datetime_complete=datetime.datetime(2020, 7, 8, 2, 33, 18, 682064), params={'n_epochs': 111, 'n_factors': 56}, distributions={'n_epochs': IntUniformDistribution(high=150, low=2, step=1), 'n_factors': IntUniformDistribution(high=150, low=2, step=1)}, user_attrs={}, system_attrs={}, intermediate_values={}, trial_id=61, state=TrialState.COMPLETE)\n"
     ]
    },
    {
     "name": "stderr",
     "output_type": "stream",
     "text": [
      "[W 2020-07-08 04:59:51,336] You need to set up the pruning feature to utilize `plot_intermediate_values()`\n"
     ]
    },
    {
     "name": "stdout",
     "output_type": "stream",
     "text": [
      "best params for SVD_MF :  {'n_epochs': 111, 'n_factors': 56}\n"
     ]
    },
    {
     "name": "stderr",
     "output_type": "stream",
     "text": [
      "[I 2020-07-08 04:59:52,149] A new study created with name: NonNegative_MF_CCLE_GDSC_CTRP_NCI60_common_False_unseenCells_False_normalize_True_test_split_0.2_cat_point_10_drug_transform_type_pca_num_comp_10_cell_transform_type_pca_num_comp_10\n",
      "[I 2020-07-08 05:05:44,277] Finished trial#0 with value: 3.10387681152492 with parameters: {'n_factors': 20, 'n_epochs': 40}. Best is trial#0 with value: 3.10387681152492.\n",
      "[I 2020-07-08 05:11:39,549] Finished trial#1 with value: 3.035816709366838 with parameters: {'n_factors': 130, 'n_epochs': 73}. Best is trial#1 with value: 3.035816709366838.\n",
      "[I 2020-07-08 05:17:32,675] Finished trial#2 with value: 2.954475281596767 with parameters: {'n_factors': 2, 'n_epochs': 22}. Best is trial#2 with value: 2.954475281596767.\n",
      "[I 2020-07-08 05:23:27,598] Finished trial#3 with value: 3.1041309838384596 with parameters: {'n_factors': 29, 'n_epochs': 138}. Best is trial#2 with value: 2.954475281596767.\n",
      "[I 2020-07-08 05:29:20,392] Finished trial#4 with value: 3.1037203612367157 with parameters: {'n_factors': 39, 'n_epochs': 122}. Best is trial#2 with value: 2.954475281596767.\n",
      "[I 2020-07-08 05:35:15,755] Finished trial#5 with value: 3.0290430626906977 with parameters: {'n_factors': 88, 'n_epochs': 85}. Best is trial#2 with value: 2.954475281596767.\n",
      "[I 2020-07-08 05:41:12,582] Finished trial#6 with value: 3.0368800429790754 with parameters: {'n_factors': 73, 'n_epochs': 133}. Best is trial#2 with value: 2.954475281596767.\n",
      "[I 2020-07-08 05:47:08,501] Finished trial#7 with value: 2.886063043200827 with parameters: {'n_factors': 33, 'n_epochs': 30}. Best is trial#7 with value: 2.886063043200827.\n",
      "[I 2020-07-08 05:53:04,040] Finished trial#8 with value: 3.0351408688573374 with parameters: {'n_factors': 17, 'n_epochs': 143}. Best is trial#7 with value: 2.886063043200827.\n",
      "[I 2020-07-08 05:58:58,631] Finished trial#9 with value: 2.9539998209383347 with parameters: {'n_factors': 53, 'n_epochs': 134}. Best is trial#7 with value: 2.886063043200827.\n",
      "[I 2020-07-08 06:04:56,187] Finished trial#10 with value: 3.1014408611465036 with parameters: {'n_factors': 110, 'n_epochs': 3}. Best is trial#7 with value: 2.886063043200827.\n",
      "[I 2020-07-08 06:10:51,989] Finished trial#11 with value: 2.9572059564785236 with parameters: {'n_factors': 60, 'n_epochs': 64}. Best is trial#7 with value: 2.886063043200827.\n",
      "[I 2020-07-08 06:16:48,553] Finished trial#12 with value: 3.10394516841063 with parameters: {'n_factors': 52, 'n_epochs': 103}. Best is trial#7 with value: 2.886063043200827.\n",
      "[I 2020-07-08 06:22:49,336] Finished trial#13 with value: 3.0960416403618893 with parameters: {'n_factors': 91, 'n_epochs': 46}. Best is trial#7 with value: 2.886063043200827.\n",
      "[I 2020-07-08 06:28:47,572] Finished trial#14 with value: 3.1026405499974965 with parameters: {'n_factors': 3, 'n_epochs': 9}. Best is trial#7 with value: 2.886063043200827.\n",
      "[I 2020-07-08 06:34:43,440] Finished trial#15 with value: 3.0364773710557516 with parameters: {'n_factors': 44, 'n_epochs': 102}. Best is trial#7 with value: 2.886063043200827.\n",
      "[I 2020-07-08 06:40:45,153] Finished trial#16 with value: 3.031659845735354 with parameters: {'n_factors': 69, 'n_epochs': 31}. Best is trial#7 with value: 2.886063043200827.\n",
      "[I 2020-07-08 06:46:43,092] Finished trial#17 with value: 3.107235360453044 with parameters: {'n_factors': 37, 'n_epochs': 58}. Best is trial#7 with value: 2.886063043200827.\n",
      "[I 2020-07-08 06:52:35,637] Finished trial#18 with value: 3.1010320530081024 with parameters: {'n_factors': 57, 'n_epochs': 89}. Best is trial#7 with value: 2.886063043200827.\n",
      "[I 2020-07-08 06:58:33,828] Finished trial#19 with value: 3.098860280128485 with parameters: {'n_factors': 17, 'n_epochs': 116}. Best is trial#7 with value: 2.886063043200827.\n",
      "[I 2020-07-08 07:04:27,239] Finished trial#20 with value: 3.1080308601272044 with parameters: {'n_factors': 91, 'n_epochs': 17}. Best is trial#7 with value: 2.886063043200827.\n",
      "[I 2020-07-08 07:10:23,182] Finished trial#21 with value: 3.0365949487556105 with parameters: {'n_factors': 3, 'n_epochs': 22}. Best is trial#7 with value: 2.886063043200827.\n",
      "[I 2020-07-08 07:16:17,123] Finished trial#22 with value: 3.023793857055966 with parameters: {'n_factors': 2, 'n_epochs': 44}. Best is trial#7 with value: 2.886063043200827.\n",
      "[I 2020-07-08 07:22:13,255] Finished trial#23 with value: 2.961361778847944 with parameters: {'n_factors': 28, 'n_epochs': 29}. Best is trial#7 with value: 2.886063043200827.\n",
      "[I 2020-07-08 07:28:08,890] Finished trial#24 with value: 2.9499449609826223 with parameters: {'n_factors': 48, 'n_epochs': 2}. Best is trial#7 with value: 2.886063043200827.\n",
      "[I 2020-07-08 07:34:05,804] Finished trial#25 with value: 3.1020564469441436 with parameters: {'n_factors': 62, 'n_epochs': 4}. Best is trial#7 with value: 2.886063043200827.\n",
      "[I 2020-07-08 07:40:02,860] Finished trial#26 with value: 3.028184022851297 with parameters: {'n_factors': 80, 'n_epochs': 59}. Best is trial#7 with value: 2.886063043200827.\n",
      "[I 2020-07-08 07:45:59,865] Finished trial#27 with value: 3.0999504815115033 with parameters: {'n_factors': 46, 'n_epochs': 2}. Best is trial#7 with value: 2.886063043200827.\n",
      "[I 2020-07-08 07:51:59,712] Finished trial#28 with value: 3.0953546223192268 with parameters: {'n_factors': 30, 'n_epochs': 17}. Best is trial#7 with value: 2.886063043200827.\n",
      "[I 2020-07-08 07:57:54,960] Finished trial#29 with value: 2.961071676079155 with parameters: {'n_factors': 16, 'n_epochs': 43}. Best is trial#7 with value: 2.886063043200827.\n",
      "[I 2020-07-08 08:03:54,357] Finished trial#30 with value: 3.1006415838083505 with parameters: {'n_factors': 48, 'n_epochs': 37}. Best is trial#7 with value: 2.886063043200827.\n",
      "[I 2020-07-08 08:09:50,437] Finished trial#31 with value: 3.103820347993394 with parameters: {'n_factors': 12, 'n_epochs': 12}. Best is trial#7 with value: 2.886063043200827.\n",
      "[I 2020-07-08 08:16:05,514] Finished trial#32 with value: 3.1082169731120954 with parameters: {'n_factors': 31, 'n_epochs': 25}. Best is trial#7 with value: 2.886063043200827.\n",
      "[I 2020-07-08 08:22:08,109] Finished trial#33 with value: 3.0275554994289537 with parameters: {'n_factors': 63, 'n_epochs': 53}. Best is trial#7 with value: 2.886063043200827.\n",
      "[I 2020-07-08 08:28:07,745] Finished trial#34 with value: 3.0329112472754858 with parameters: {'n_factors': 147, 'n_epochs': 33}. Best is trial#7 with value: 2.886063043200827.\n",
      "[I 2020-07-08 08:34:09,889] Finished trial#35 with value: 3.0999124232679853 with parameters: {'n_factors': 39, 'n_epochs': 150}. Best is trial#7 with value: 2.886063043200827.\n",
      "[I 2020-07-08 08:40:21,599] Finished trial#36 with value: 2.95785263131766 with parameters: {'n_factors': 79, 'n_epochs': 70}. Best is trial#7 with value: 2.886063043200827.\n",
      "[I 2020-07-08 08:46:31,685] Finished trial#37 with value: 3.1061193267335696 with parameters: {'n_factors': 23, 'n_epochs': 81}. Best is trial#7 with value: 2.886063043200827.\n",
      "[I 2020-07-08 08:52:48,076] Finished trial#38 with value: 2.8832264680148425 with parameters: {'n_factors': 9, 'n_epochs': 12}. Best is trial#38 with value: 2.8832264680148425.\n",
      "[I 2020-07-08 08:58:57,254] Finished trial#39 with value: 3.0261453658250117 with parameters: {'n_factors': 52, 'n_epochs': 14}. Best is trial#38 with value: 2.8832264680148425.\n",
      "[I 2020-07-08 09:05:20,827] Finished trial#40 with value: 2.957870818842441 with parameters: {'n_factors': 36, 'n_epochs': 2}. Best is trial#38 with value: 2.8832264680148425.\n",
      "[I 2020-07-08 09:11:24,797] Finished trial#41 with value: 3.0314340279937677 with parameters: {'n_factors': 22, 'n_epochs': 24}. Best is trial#38 with value: 2.8832264680148425.\n",
      "[I 2020-07-08 09:17:34,377] Finished trial#42 with value: 3.030018380344645 with parameters: {'n_factors': 9, 'n_epochs': 6}. Best is trial#38 with value: 2.8832264680148425.\n",
      "[I 2020-07-08 09:23:34,387] Finished trial#43 with value: 2.95631776487756 with parameters: {'n_factors': 8, 'n_epochs': 128}. Best is trial#38 with value: 2.8832264680148425.\n",
      "[I 2020-07-08 09:29:37,362] Finished trial#44 with value: 3.035932319250445 with parameters: {'n_factors': 25, 'n_epochs': 21}. Best is trial#38 with value: 2.8832264680148425.\n",
      "[I 2020-07-08 09:35:35,611] Finished trial#45 with value: 3.1064537892159203 with parameters: {'n_factors': 69, 'n_epochs': 50}. Best is trial#38 with value: 2.8832264680148425.\n",
      "[I 2020-07-08 09:41:45,908] Finished trial#46 with value: 3.0314522434310702 with parameters: {'n_factors': 43, 'n_epochs': 37}. Best is trial#38 with value: 2.8832264680148425.\n",
      "[I 2020-07-08 09:48:08,083] Finished trial#47 with value: 3.1012039260459985 with parameters: {'n_factors': 53, 'n_epochs': 9}. Best is trial#38 with value: 2.8832264680148425.\n",
      "[I 2020-07-08 09:54:46,603] Finished trial#48 with value: 3.098351748186867 with parameters: {'n_factors': 32, 'n_epochs': 99}. Best is trial#38 with value: 2.8832264680148425.\n",
      "[I 2020-07-08 10:01:04,524] Finished trial#49 with value: 2.958465680951826 with parameters: {'n_factors': 16, 'n_epochs': 13}. Best is trial#38 with value: 2.8832264680148425.\n"
     ]
    },
    {
     "name": "stdout",
     "output_type": "stream",
     "text": [
      "FrozenTrial(number=38, value=2.8832264680148425, datetime_start=datetime.datetime(2020, 7, 8, 8, 46, 31, 715196), datetime_complete=datetime.datetime(2020, 7, 8, 8, 52, 47, 907029), params={'n_epochs': 12, 'n_factors': 9}, distributions={'n_epochs': IntUniformDistribution(high=150, low=2, step=1), 'n_factors': IntUniformDistribution(high=150, low=2, step=1)}, user_attrs={}, system_attrs={}, intermediate_values={}, trial_id=39, state=TrialState.COMPLETE)\n"
     ]
    },
    {
     "name": "stderr",
     "output_type": "stream",
     "text": [
      "[W 2020-07-08 10:01:04,629] You need to set up the pruning feature to utilize `plot_intermediate_values()`\n"
     ]
    },
    {
     "name": "stdout",
     "output_type": "stream",
     "text": [
      "best params for NonNegative_MF :  {'n_epochs': 12, 'n_factors': 9}\n"
     ]
    }
   ],
   "source": [
    "methods  = [KNN_Normalized(k=10), SVD_MF(n_factors=100), NonNegative_MF(n_factors=100)]\n",
    "i = 0 \n",
    "for method in methods:\n",
    "    if i == 0:\n",
    "        study = hopt.optimize_hyper_params(method, dataset,n_trials=5)\n",
    "        i += 1\n",
    "    else:\n",
    "        study = hopt.optimize_hyper_params(method, dataset,n_trials=50)\n",
    "    plot_optimization_history(study)\n",
    "    plot_intermediate_values(study)\n",
    "    plot_contour(study)\n",
    "    print(\"best params for \"+ method.name + \" : \",study.best_params)\n",
    "    # copy the study, i.e. hyperparam trials\n",
    "    dataset_str = datasetParams2str(dataset.__dict__)\n",
    "    study_name = '{}_{}'.format(method.name,dataset_str)\n",
    "    storage='hyperparam_experiments/{}.db'.format(study_name)\n",
    "    copyfile(storage, os.path.join(outdir,study_name + '.db'))\n",
    "    "
   ]
  },
  {
   "cell_type": "code",
   "execution_count": null,
   "metadata": {},
   "outputs": [],
   "source": []
  }
 ],
 "metadata": {
  "kernelspec": {
   "display_name": "Python 3",
   "language": "python",
   "name": "python3"
  },
  "language_info": {
   "codemirror_mode": {
    "name": "ipython",
    "version": 3
   },
   "file_extension": ".py",
   "mimetype": "text/x-python",
   "name": "python",
   "nbconvert_exporter": "python",
   "pygments_lexer": "ipython3",
   "version": "3.7.2"
  }
 },
 "nbformat": 4,
 "nbformat_minor": 2
}
