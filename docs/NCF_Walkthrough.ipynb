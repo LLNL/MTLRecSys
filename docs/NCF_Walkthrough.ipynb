{
 "cells": [
  {
   "cell_type": "code",
   "execution_count": 2,
   "metadata": {},
   "outputs": [],
   "source": [
    "import sys\n",
    "\n",
    "sys.path.append('../')\n",
    "from design import ModelTraining\n",
    "import matplotlib.pyplot as plt\n",
    "import methods.matrix_factorization.FeaturizedNCF as NCF_feat\n",
    "import methods.matrix_factorization.CustomInputNCF as NCF\n",
    "from datasets import SyntheticData as SD\n",
    "import numpy as np\n",
    "from sklearn.model_selection import train_test_split\n",
    "import pandas as pd\n",
    "from time import time\n",
    "from UTILS import utils\n",
    "import methods.mtl.NCF_MTL as NCF_MTL\n"
   ]
  },
  {
   "cell_type": "markdown",
   "metadata": {},
   "source": [
    " # NonFeaturized NCF"
   ]
  },
  {
   "cell_type": "code",
   "execution_count": 3,
   "metadata": {},
   "outputs": [
    {
     "name": "stdout",
     "output_type": "stream",
     "text": [
      "MODEL HAS BEEN DEFINED\n",
      "TRAINING....\n",
      "NCF reinitialized\n",
      "0\n",
      "PREDICTING.....\n",
      "TRAINING....\n",
      "NCF reinitialized\n",
      "0\n",
      "75\n",
      "150\n",
      "PREDICTING.....\n",
      "TRAINING....\n",
      "NCF reinitialized\n",
      "0\n",
      "75\n",
      "150\n",
      "PREDICTING.....\n",
      "0.8048341314316828 0\n",
      "0.9302123806595449 1\n",
      "0.9556996063227641 2\n"
     ]
    }
   ],
   "source": [
    "#%%capture\n",
    "import importlib\n",
    "importlib.reload(NCF)\n",
    "\n",
    "dataset = SD.SyntheticDataCreator(num_tasks=3,cellsPerTask=400, drugsPerTask=10, function=\"cosine\",\n",
    "             normalize=False, noise=1, graph=False, test_split=0.3)\n",
    "dataset.prepare_data()\n",
    "\n",
    "hyperparams = {'batch_size': 32, 'epochs': 200, 'layers': '[64,32,16,8]', \\\n",
    "                   'learner': 'rmsprop', 'lr': 0.001, 'num_factors': 8, 'num_neg': 4, \\\n",
    "                   'reg_layers': '[0,0,0,0]', 'reg_mf': 0.0, 'verbose': 1, 'warm_start':False}\n",
    "  \n",
    "NCF1  = NCF.Neural_Collaborative_Filtering(hyperparams, 'name', 'non_feature_based') # can be feature based\n",
    "        # it needs to be non bc models does feature transform\n",
    "\n",
    "# iterate through datasets in single task learning paradigm   \n",
    "y_pred = {}\n",
    "for name in dataset.datasets:\n",
    "    NCF1.fit(x=dataset.trainRatings[name])\n",
    "    y_pred[name] = NCF1.predict(dataset.testRatings[name]) \n",
    "\n",
    "#rmse\n",
    "for name in y_pred.keys():        \n",
    "    rmse = np.sqrt(np.sum(((y_pred[name][:,0] - dataset.data['test']['y'][name]) ** 2) / len(y_pred[name])))\n",
    "    print(rmse, name)"
   ]
  },
  {
   "cell_type": "markdown",
   "metadata": {},
   "source": [
    "# Featurized NCF Example"
   ]
  },
  {
   "cell_type": "code",
   "execution_count": 4,
   "metadata": {},
   "outputs": [
    {
     "name": "stdout",
     "output_type": "stream",
     "text": [
      "model has been defined\n",
      "TRAINING....\n",
      "NCF reinitialized\n",
      "break... model converged\n",
      "PREDICTING.....\n",
      "(1200, 20)\n",
      "TRAINING....\n",
      "NCF reinitialized\n",
      "break... model converged\n",
      "PREDICTING.....\n",
      "(1200, 20)\n",
      "TRAINING....\n",
      "NCF reinitialized\n",
      "break... model converged\n",
      "PREDICTING.....\n",
      "(1200, 20)\n",
      "0.25058302922958736 0\n",
      "0.24961774086704824 1\n",
      "0.25494508025729135 2\n"
     ]
    }
   ],
   "source": [
    "#%%capture\n",
    "import importlib\n",
    "#reload python import so we don't have to start and restart kernel\n",
    "importlib.reload(NCF_feat)\n",
    "\n",
    "\n",
    "\n",
    "\n",
    "hyperparams = {'batch_size': 64, 'epochs': 100, 'layers': '[64,32,16,8]', 'learner': 'adam', 'lr': 0.001, \\\n",
    "               'num_factors': 16, 'num_neg': 4, 'reg_layers': '[0.01,0,0,0.01]', 'reg_mf': 0.01,\\\n",
    "               'verbose': 1, 'warm_start':False}\n",
    "NCF2  = NCF_feat.Neural_Collaborative_Filtering_Features(hyperparams,'name', 'feature_based') # can be feature based\n",
    "        # it needs to be non bc models does feature transform\n",
    "    \n",
    "# iterate through datasets in single task learning paradigm   \n",
    "y_pred = {}\n",
    "for k in dataset.datasets:\n",
    "    NCF2.fit(x=dataset.data['train']['x'][k], y=dataset.data['train']['y'][k])\n",
    "    y_pred[k] = NCF2.predict(dataset.data['test']['x'][k]) \n",
    "\n",
    "#rmse\n",
    "for name in y_pred.keys():        \n",
    "    rmse = np.sqrt(np.sum(((y_pred[name][:,0] - dataset.data['test']['y'][name]) ** 2) / len(y_pred[name])))\n",
    "    print(rmse, name)"
   ]
  },
  {
   "cell_type": "markdown",
   "metadata": {},
   "source": [
    "# MTL NCF with Pooled MLP Example"
   ]
  },
  {
   "cell_type": "code",
   "execution_count": 5,
   "metadata": {},
   "outputs": [
    {
     "name": "stdout",
     "output_type": "stream",
     "text": [
      "model has been defined\n",
      "PREDICTING.....\n",
      "0.8660533164359661 0\n",
      "0.6996997536437438 1\n",
      "0.624245763614103 2\n"
     ]
    }
   ],
   "source": [
    "#%%capture\n",
    "import importlib\n",
    "importlib.reload(NCF_MTL)\n",
    "\n",
    "\n",
    "hyperparams_mtlmlp = {'batch_size': 64, 'epochs': 150, 'layers': '[64,32,16,8]', \\\n",
    "                   'learner': 'adam', 'lr': .001,'mlp_lr': .001, 'num_factors': 10, \\\n",
    "                   'reg_layers': '[0,0,0,.01]', 'reg_mf': 0.01, 'verbose': 1}\n",
    "\n",
    "\n",
    "NCF3 = NCF_MTL.Neural_Collaborative_Filtering_FeaturesMTLMLP(hyperparams_mtlmlp,'name', 'feature_based')\n",
    "\n",
    "NCF3.fit(x=dataset.data['train']['x'],\n",
    "                                   y=dataset.data['train']['y'],\n",
    "                                   cat_point=dataset.cat_point)\n",
    "\n",
    "y_pred = NCF3.predict(dataset.data['test']['x'], dataset.data['test']['y']) \n",
    "\n",
    "#rmse\n",
    "for name in y_pred.keys():\n",
    "    rmse = np.sqrt(np.sum(((y_pred[name][:,0] - dataset.data['test']['y'][name]) ** 2) / len(y_pred[name])))\n",
    "    print(rmse, name)\n"
   ]
  },
  {
   "cell_type": "markdown",
   "metadata": {},
   "source": [
    "# MTL NCF with Pooled MF"
   ]
  },
  {
   "cell_type": "code",
   "execution_count": 6,
   "metadata": {},
   "outputs": [
    {
     "name": "stdout",
     "output_type": "stream",
     "text": [
      "model has been defined\n",
      "PREDICTING.....\n",
      "0.7123474321731185 0\n",
      "1.7743642422838766 1\n",
      "0.4966135018616864 2\n"
     ]
    }
   ],
   "source": [
    "#%%capture\n",
    "import importlib\n",
    "importlib.reload(NCF_MTL)\n",
    "\n",
    "hyperparams_mtlmlp = {'batch_size': 64, 'epochs': 150, 'layers': '[64,32,16,8]', \\\n",
    "                   'learner': 'adam', 'lr': .001,'mlp_lr': .001, 'num_factors': 10, \\\n",
    "                   'reg_layers': '[0,0,0,.01]', 'reg_mf': 0.01, 'verbose': 1}\n",
    "\n",
    "\n",
    "NCF3 = NCF_MTL.Neural_Collaborative_Filtering_FeaturesMTLMLP(hyperparams_mtlmlp,'name', 'feature_based')\n",
    "\n",
    "NCF3.fit(x=dataset.data['train']['x'],\n",
    "                                   y=dataset.data['train']['y'],\n",
    "                                   cat_point=dataset.cat_point)\n",
    "\n",
    "y_pred = NCF3.predict(dataset.data['test']['x'], dataset.data['test']['y']) \n",
    "\n",
    "#rmse\n",
    "for name in y_pred.keys():\n",
    "    rmse = np.sqrt(np.sum(((y_pred[name][:,0] - dataset.data['test']['y'][name]) ** 2) / len(y_pred[name])))\n",
    "    print(rmse, name)\n"
   ]
  },
  {
   "cell_type": "code",
   "execution_count": 32,
   "metadata": {},
   "outputs": [
    {
     "name": "stdout",
     "output_type": "stream",
     "text": [
      "PREDICTING.....\n",
      "0.6981196213543954 CCLE\n",
      "0.5048938257444706 GDSC\n",
      "0.7784718127828185 CTRP\n"
     ]
    }
   ],
   "source": [
    "#%%capture\n",
    "import importlib\n",
    "importlib.reload(NCF_MTL)\n",
    "\n",
    "hyperparams_mtlmf = {'batch_size': 64, 'epochs': 150, 'layers': '[64,32,16,8]', \\\n",
    "                   'learner': 'adam', 'lr': .001,'mf_lr': .001, 'num_factors': 10, \\\n",
    "                   'reg_layers': '[0,0,0,.01]', 'reg_mf': 0.01, 'verbose': 1}\n",
    "\n",
    "\n",
    "NCF4 = NCF_MTL.Neural_Collaborative_Filtering_FeaturesMTLMF(hyperparams_mtlmf,'name', 'feature_based')\n",
    "\n",
    "NCF4.fit(x=dataset.data['train']['x'],\n",
    "                                   y=dataset.data['train']['y'],\n",
    "                                   cat_point=dataset.cat_point)\n",
    "\n",
    "y_pred = NCF4.predict(dataset.data['test']['x'], dataset.data['test']['y']) \n",
    "\n",
    "#rmse\n",
    "for name in y_pred.keys():\n",
    "    rmse = np.sqrt(np.sum(((y_pred[name][:,0] - dataset.data['test']['y'][name]) ** 2) / len(y_pred[name])))\n",
    "    print(rmse, name)\n"
   ]
  },
  {
   "cell_type": "markdown",
   "metadata": {},
   "source": [
    "# Featurized NCF Train Test Curve Example"
   ]
  },
  {
   "cell_type": "code",
   "execution_count": 7,
   "metadata": {
    "scrolled": false
   },
   "outputs": [
    {
     "name": "stdout",
     "output_type": "stream",
     "text": [
      "model has been defined\n",
      "0\n",
      "epoch :  0\n",
      "epoch :  10\n",
      "epoch :  20\n",
      "BREAK\n",
      "min train err:  [0.2359551042318344] min test err:  0.23274201154708862\n",
      "1\n",
      "epoch :  0\n",
      "epoch :  10\n",
      "BREAK\n",
      "min train err:  [0.22925961017608643] min test err:  0.22942525148391724\n",
      "2\n",
      "epoch :  0\n",
      "epoch :  10\n",
      "BREAK\n",
      "min train err:  [0.23665441572666168] min test err:  0.2217150777578354\n"
     ]
    },
    {
     "name": "stderr",
     "output_type": "stream",
     "text": [
      "/usr/tce/packages/python/python-3.7.2/lib/python3.7/site-packages/matplotlib/figure.py:2366: UserWarning: This figure includes Axes that are not compatible with tight_layout, so results might be incorrect.\n",
      "  warnings.warn(\"This figure includes Axes that are not compatible \"\n"
     ]
    },
    {
     "data": {
      "image/png": "[encoded data removed]",
      "text/plain": [
       "<Figure size 576x1440 with 4 Axes>"
      ]
     },
     "metadata": {
      "needs_background": "light"
     },
     "output_type": "display_data"
    }
   ],
   "source": [
    "#%%capture\n",
    "import importlib\n",
    "#reload python import so we don't have to start and restart kernel\n",
    "importlib.reload(NCF_feat)\n",
    "\n",
    "hyperparams = {'batch_size': 64, 'epochs': 1, 'layers': '[64,32,16,8]', \\\n",
    "                   'learner': 'adam', 'lr': 0.001, 'mf_pretrain': '', 'mlp_pretrain': '', \\\n",
    "                   'num_factors': 16, 'num_neg': 4, 'out': 1, 'path': 'Data/', \\\n",
    "                   'reg_layers': '[0.01,0,0,0.01]', 'reg_mf': 0.01, 'verbose': 1, 'warm_start':False}\n",
    "model  = NCF_feat.Neural_Collaborative_Filtering_Features(hyperparams,'name', 'feature_based') # can be feature based\n",
    "        # it needs to be non bc models does feature transform\n",
    "epochs = 600\n",
    "batch_size = 64\n",
    "plot_counter = 0\n",
    "fig, axs = plt.subplots(4, figsize=(8,20))\n",
    "for k in dataset.datasets:\n",
    "    print(k)\n",
    "    train_rmses = []\n",
    "    test_rmses = []\n",
    "\n",
    "    for epoch in range(epochs): \n",
    "        if epoch % 10 == 0:\n",
    "            print(\"epoch : \" , epoch)\n",
    "        t1 = time()\n",
    "        # Generate training instances\n",
    "        train_x = dataset.data['train']['x'][k][:30000]\n",
    "        train_y = dataset.data['train']['y'][k][:30000]\n",
    "        test_x = dataset.data['test']['x'][k][:10000]\n",
    "        test_y = dataset.data['test']['y'][k][:10000]\n",
    "#        overlap = 0\n",
    "#         for y in test_y:\n",
    "#             if y in train_y:\n",
    "#                 overlap += 1\n",
    "#         print(overlap, \"Overlap\")\n",
    "    \n",
    "        train_hist = model.model.fit({'user_inputs':np.array(train_x[:,:10]), 'item_inputs':np.array(train_x[:,10:])} \\\n",
    "                                     , np.array(train_y), batch_size=batch_size, epochs=1, verbose=0, shuffle=False)\n",
    "        test_hist = model.model.evaluate({'user_inputs':np.array(test_x[:,:10]), 'item_inputs':np.array(test_x[:,10:])}, np.array(test_y),\n",
    "                            batch_size=batch_size, verbose=0,return_dict=True)\n",
    "        t2 = time()\n",
    "        #print(\"train: \",train_hist.history['root_mean_squared_error'], \"test: \", test_hist['root_mean_squared_error'])\n",
    "\n",
    "        train_rmses.append(train_hist.history['root_mean_squared_error'])\n",
    "        test_rmses.append(test_hist['root_mean_squared_error'])\n",
    "        if epoch > 10 and np.max(train_rmses[epoch-10:epoch] - np.min(train_rmses[epoch-10:epoch])) < .008:\n",
    "            print(\"BREAK\")\n",
    "            break\n",
    "    axs[plot_counter].plot(train_rmses)\n",
    "    axs[plot_counter].plot(test_rmses)\n",
    "    axs[plot_counter].set_title(k)\n",
    "    axs[plot_counter].legend(['train', 'validation'])\n",
    "    axs[plot_counter].set_ylabel('RMSE')\n",
    "    axs[plot_counter].set_xlabel('EPOCH')\n",
    "    plot_counter += 1\n",
    "    print('min train err: ',min(train_rmses), \"min test err: \", min(test_rmses) )"
   ]
  }
 ],
 "metadata": {
  "kernelspec": {
   "display_name": "Python 3",
   "language": "python",
   "name": "python3"
  },
  "language_info": {
   "codemirror_mode": {
    "name": "ipython",
    "version": 3
   },
   "file_extension": ".py",
   "mimetype": "text/x-python",
   "name": "python",
   "nbconvert_exporter": "python",
   "pygments_lexer": "ipython3",
   "version": "3.7.2"
  }
 },
 "nbformat": 4,
 "nbformat_minor": 4
}
