{
 "cells": [
  {
   "cell_type": "markdown",
   "metadata": {},
   "source": [
    "## Optuna Example Hyperparameter Optimization KNN, SVD, NNMF"
   ]
  },
  {
   "cell_type": "markdown",
   "metadata": {},
   "source": [
    "In order for the code below to work for a different method/model, the model should have member functions like this:\n",
    "\n",
    "    def get_hyper_params(self):\n",
    "        hparams = {'num_factors': {'type': 'integer', 'values': [2, 10]},\n",
    "                   'rho_1': {'type': 'loguniform', 'values': [1e-3, 100]},\n",
    "                   'rho_2': {'type': 'loguniform', 'values': [1e-3, 100]}}\n",
    "        return hparams\n",
    "\n",
    "    def set_hyper_params(self, **kwargs):\n",
    "        self.num_factors = kwargs['num_factors']\n",
    "        self.rho1 = kwargs['rho_1']\n",
    "        self.rho2 = kwargs['rho_2']"
   ]
  },
  {
   "cell_type": "code",
   "execution_count": 2,
   "metadata": {
    "ExecuteTime": {
     "end_time": "2020-06-29T19:49:11.492466Z",
     "start_time": "2020-06-29T19:49:11.484317Z"
    }
   },
   "outputs": [],
   "source": [
    "import os, sys\n",
    "sys.path.append('../')\n",
    "import hp_optimization as hopt\n",
    "from optuna.visualization import plot_optimization_history, \\\n",
    "                                 plot_intermediate_values, \\\n",
    "                                 plot_contour\n",
    "\n",
    "from design import ModelTraining\n",
    "from methods.matrix_factorization.MF_STL import MF_STL\n",
    "from methods.matrix_factorization.MF import SVD_MF, NonNegative_MF\n",
    "from methods.knn.KNN import KNN_Normalized\n",
    "from shutil import copyfile\n",
    "from UTILS.utils import datasetParams2str\n",
    "from datasets import SyntheticData as SD\n",
    "\n",
    "outdir = '../outputs/experiment_004x' # make sure that it lines up with the experiment's filename\n",
    "if not os.path.exists(outdir):\n",
    "    os.makedirs(outdir)"
   ]
  },
  {
   "cell_type": "code",
   "execution_count": 3,
   "metadata": {},
   "outputs": [],
   "source": [
    "dataset = SD.SyntheticDataCreator(num_tasks=3,cellsPerTask=400, drugsPerTask=10, function=\"cosine\",\n",
    "             normalize=False, noise=1, graph=False, test_split=0.3)\n",
    "dataset.prepare_data()"
   ]
  },
  {
   "cell_type": "code",
   "execution_count": null,
   "metadata": {
    "scrolled": true
   },
   "outputs": [],
   "source": [
    "methods  = [KNN_Normalized(k=10), SVD_MF(n_factors=100), NonNegative_MF(n_factors=100)]\n",
    "i = 0 \n",
    "for method in methods:\n",
    "    if i == 0:\n",
    "        study = hopt.optimize_hyper_params(method, dataset,n_trials=5)\n",
    "        i += 1\n",
    "    else:\n",
    "        study = hopt.optimize_hyper_params(method, dataset,n_trials=50)\n",
    "    plot_optimization_history(study)\n",
    "    plot_intermediate_values(study)\n",
    "    plot_contour(study)\n",
    "    print(\"best params for \"+ method.name + \" : \",study.best_params)\n",
    "    # copy the study, i.e. hyperparam trials\n",
    "    dataset_str = datasetParams2str(dataset.__dict__)\n",
    "    study_name = '{}_{}'.format(method.name,dataset_str)\n",
    "    storage='hyperparam_experiments/{}.db'.format(study_name)\n",
    "    copyfile(storage, os.path.join(outdir,study_name + '.db'))\n",
    "    "
   ]
  },
  {
   "cell_type": "code",
   "execution_count": null,
   "metadata": {},
   "outputs": [],
   "source": []
  }
 ],
 "metadata": {
  "kernelspec": {
   "display_name": "Python 3",
   "language": "python",
   "name": "python3"
  },
  "language_info": {
   "codemirror_mode": {
    "name": "ipython",
    "version": 3
   },
   "file_extension": ".py",
   "mimetype": "text/x-python",
   "name": "python",
   "nbconvert_exporter": "python",
   "pygments_lexer": "ipython3",
   "version": "3.7.2"
  }
 },
 "nbformat": 4,
 "nbformat_minor": 2
}
